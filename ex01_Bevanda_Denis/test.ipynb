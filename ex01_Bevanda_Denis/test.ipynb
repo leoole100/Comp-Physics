{
 "cells": [
  {
   "cell_type": "code",
   "execution_count": 47,
   "metadata": {},
   "outputs": [
    {
     "data": {
      "text/plain": [
       "1"
      ]
     },
     "metadata": {},
     "output_type": "display_data"
    }
   ],
   "source": [
    "# define constants\n",
    "N = 10  # size\n",
    "d = 2   # dimension\n",
    "J = 1   # coupling constant"
   ]
  },
  {
   "cell_type": "code",
   "execution_count": 43,
   "metadata": {},
   "outputs": [
    {
     "data": {
      "text/plain": [
       "xor (generic function with 1 method)"
      ]
     },
     "metadata": {},
     "output_type": "display_data"
    }
   ],
   "source": [
    "# like \\sigma_i * \\sigma_j with \\sigma \\in {-1, 1}\n",
    "function xor(a, b)\n",
    "    return (a && !b) || (!a && b)\n",
    "end"
   ]
  },
  {
   "cell_type": "code",
   "execution_count": 74,
   "metadata": {},
   "outputs": [
    {
     "data": {
      "text/plain": [
       "1"
      ]
     },
     "metadata": {},
     "output_type": "display_data"
    }
   ],
   "source": [
    "true ? 1 : -1"
   ]
  },
  {
   "cell_type": "code",
   "execution_count": 77,
   "metadata": {},
   "outputs": [
    {
     "data": {
      "text/plain": [
       "H_field (generic function with 1 method)"
      ]
     },
     "metadata": {},
     "output_type": "display_data"
    }
   ],
   "source": [
    "H_coupling(i, j, J) = - J *(xor(i, j) ? 1 : -1)\n",
    "H_field(i, H) = - H * (i ? 1 : -1)"
   ]
  },
  {
   "cell_type": "code",
   "execution_count": 96,
   "metadata": {},
   "outputs": [
    {
     "data": {
      "text/plain": [
       "convert_to_integer (generic function with 2 methods)"
      ]
     },
     "metadata": {},
     "output_type": "display_data"
    }
   ],
   "source": [
    "function convert_to_integer(i::Bool)\n",
    "    if i\n",
    "        return 1\n",
    "    else\n",
    "        return -1\n",
    "    end\n",
    "end"
   ]
  },
  {
   "cell_type": "code",
   "execution_count": 101,
   "metadata": {},
   "outputs": [
    {
     "data": {
      "text/plain": [
       "10×10 Matrix{Int64}:\n",
       " -1  -1  -1  -1   1  -1   1  -1  -1   1\n",
       " -1  -1   1  -1   1   1  -1  -1  -1   1\n",
       "  1   1   1  -1  -1   1  -1   1  -1   1\n",
       " -1   1   1   1   1   1  -1  -1   1   1\n",
       " -1  -1   1  -1  -1   1  -1   1  -1   1\n",
       " -1  -1  -1  -1   1   1   1  -1   1   1\n",
       "  1   1   1  -1  -1   1  -1  -1  -1  -1\n",
       "  1  -1  -1   1  -1   1  -1  -1   1  -1\n",
       "  1  -1  -1  -1   1  -1   1   1  -1   1\n",
       "  1  -1   1  -1   1  -1   1   1   1   1"
      ]
     },
     "metadata": {},
     "output_type": "display_data"
    }
   ],
   "source": [
    "spins = BitArray(undef, N^d)\n",
    "spins = reshape(spins, fill(N, d)...)\n",
    "\n",
    "# loop over all spins in all dimensions dependent on d\n",
    "for i in eachindex(spins)\n",
    "    spins[i] = rand(Bool)\n",
    "end\n",
    "broadcast(convert_to_integer, spins)"
   ]
  }
 ],
 "metadata": {
  "kernelspec": {
   "display_name": "Julia 1.10.2",
   "language": "julia",
   "name": "julia-1.10"
  },
  "language_info": {
   "file_extension": ".jl",
   "mimetype": "application/julia",
   "name": "julia",
   "version": "1.10.2"
  }
 },
 "nbformat": 4,
 "nbformat_minor": 2
}
